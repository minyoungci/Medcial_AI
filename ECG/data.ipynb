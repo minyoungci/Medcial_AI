{
 "cells": [
  {
   "cell_type": "code",
   "execution_count": 1,
   "metadata": {},
   "outputs": [
    {
     "data": {
      "text/plain": [
       "((2, 40467),\n",
       " array([[1.5       , 1.5       , 1.5       , ..., 3.2       , 3.2       ,\n",
       "         3.2       ],\n",
       "        [0.02245541, 0.02245661, 0.0224578 , ..., 0.9582754 , 0.95829856,\n",
       "         0.9583219 ]], dtype=float32))"
      ]
     },
     "execution_count": 1,
     "metadata": {},
     "output_type": "execute_result"
    }
   ],
   "source": [
    "import numpy as np\n",
    "\n",
    "# 파일 경로 설정\n",
    "file_path = '/home/minyoungxi/MINYOUNGXI/SMC/10196714/CO_10196714_221019.npy'\n",
    "\n",
    "# NumPy 배열 로드\n",
    "Co = np.load(file_path)\n",
    "\n",
    "# 데이터의 형태와 일부 내용 출력\n",
    "data_shape = Co.shape\n",
    "data_content = Co if Co.size <= 10 else Co[:10]  # 데이터가 많을 경우 처음 10개 요소만 출력\n",
    "\n",
    "data_shape, data_content\n"
   ]
  },
  {
   "cell_type": "code",
   "execution_count": null,
   "metadata": {},
   "outputs": [],
   "source": []
  }
 ],
 "metadata": {
  "kernelspec": {
   "display_name": "TorchEnv",
   "language": "python",
   "name": "python3"
  },
  "language_info": {
   "codemirror_mode": {
    "name": "ipython",
    "version": 3
   },
   "file_extension": ".py",
   "mimetype": "text/x-python",
   "name": "python",
   "nbconvert_exporter": "python",
   "pygments_lexer": "ipython3",
   "version": "3.8.16"
  }
 },
 "nbformat": 4,
 "nbformat_minor": 2
}
